{
 "cells": [
  {
   "cell_type": "code",
   "id": "initial_id",
   "metadata": {
    "collapsed": true,
    "ExecuteTime": {
     "end_time": "2025-10-03T07:44:57.121299Z",
     "start_time": "2025-10-03T07:44:36.383060Z"
    }
   },
   "source": "!pip install pandas\n",
   "outputs": [
    {
     "name": "stdout",
     "output_type": "stream",
     "text": [
      "Collecting pandas\r\n",
      "  Downloading pandas-2.3.3-cp312-cp312-manylinux_2_24_x86_64.manylinux_2_28_x86_64.whl.metadata (91 kB)\r\n",
      "Collecting numpy>=1.26.0 (from pandas)\r\n",
      "  Using cached numpy-2.3.3-cp312-cp312-manylinux_2_27_x86_64.manylinux_2_28_x86_64.whl.metadata (62 kB)\r\n",
      "Requirement already satisfied: python-dateutil>=2.8.2 in /home/system-4/PycharmProjects/trading_persona/.venv/lib/python3.12/site-packages (from pandas) (2.9.0.post0)\r\n",
      "Collecting pytz>=2020.1 (from pandas)\r\n",
      "  Using cached pytz-2025.2-py2.py3-none-any.whl.metadata (22 kB)\r\n",
      "Collecting tzdata>=2022.7 (from pandas)\r\n",
      "  Using cached tzdata-2025.2-py2.py3-none-any.whl.metadata (1.4 kB)\r\n",
      "Requirement already satisfied: six>=1.5 in /home/system-4/PycharmProjects/trading_persona/.venv/lib/python3.12/site-packages (from python-dateutil>=2.8.2->pandas) (1.17.0)\r\n",
      "Downloading pandas-2.3.3-cp312-cp312-manylinux_2_24_x86_64.manylinux_2_28_x86_64.whl (12.4 MB)\r\n",
      "\u001B[2K   \u001B[90m━━━━━━━━━━━━━━━━━━━━━━━━━━━━━━━━━━━━━━━━\u001B[0m \u001B[32m12.4/12.4 MB\u001B[0m \u001B[31m52.0 MB/s\u001B[0m eta \u001B[36m0:00:00\u001B[0m \u001B[36m0:00:01\u001B[0m\r\n",
      "\u001B[?25hUsing cached numpy-2.3.3-cp312-cp312-manylinux_2_27_x86_64.manylinux_2_28_x86_64.whl (16.6 MB)\r\n",
      "Using cached pytz-2025.2-py2.py3-none-any.whl (509 kB)\r\n",
      "Using cached tzdata-2025.2-py2.py3-none-any.whl (347 kB)\r\n",
      "Installing collected packages: pytz, tzdata, numpy, pandas\r\n",
      "Successfully installed numpy-2.3.3 pandas-2.3.3 pytz-2025.2 tzdata-2025.2\r\n",
      "\r\n",
      "\u001B[1m[\u001B[0m\u001B[34;49mnotice\u001B[0m\u001B[1;39;49m]\u001B[0m\u001B[39;49m A new release of pip is available: \u001B[0m\u001B[31;49m24.3.1\u001B[0m\u001B[39;49m -> \u001B[0m\u001B[32;49m25.2\u001B[0m\r\n",
      "\u001B[1m[\u001B[0m\u001B[34;49mnotice\u001B[0m\u001B[1;39;49m]\u001B[0m\u001B[39;49m To update, run: \u001B[0m\u001B[32;49mpip install --upgrade pip\u001B[0m\r\n"
     ]
    }
   ],
   "execution_count": 2
  },
  {
   "metadata": {
    "ExecuteTime": {
     "end_time": "2025-10-03T10:25:26.842948Z",
     "start_time": "2025-10-03T10:25:26.564435Z"
    }
   },
   "cell_type": "code",
   "source": "import pandas as pd",
   "id": "4844d5a47f744bd7",
   "outputs": [],
   "execution_count": 3
  },
  {
   "metadata": {
    "ExecuteTime": {
     "end_time": "2025-10-03T10:25:34.254156Z",
     "start_time": "2025-10-03T10:25:27.444618Z"
    }
   },
   "cell_type": "code",
   "source": [
    "data = pd.read_csv('trade1_persona_sample.csv')\n",
    "import numpy as np\n",
    "data['transaction_type'] = np.where(data['transaction_type']==\"SALE\",\"SELL\",'BUY')\n",
    "\n",
    "data.to_csv('trade1_persona_sample.csv',index=False)"
   ],
   "id": "3abc5e5d98a9ee3a",
   "outputs": [],
   "execution_count": 4
  },
  {
   "metadata": {
    "ExecuteTime": {
     "end_time": "2025-10-03T10:17:44.175069Z",
     "start_time": "2025-10-03T10:17:44.172679Z"
    }
   },
   "cell_type": "code",
   "source": "print(data.columns)",
   "id": "157eb3462f76c537",
   "outputs": [
    {
     "name": "stdout",
     "output_type": "stream",
     "text": [
      "Index(['trade_date', 'client_id', 'scrip_name', 'symbol', 'transaction_type',\n",
      "       'quantity', 'price', 'trade_value'],\n",
      "      dtype='object')\n"
     ]
    }
   ],
   "execution_count": 4
  },
  {
   "metadata": {
    "ExecuteTime": {
     "end_time": "2025-10-03T07:48:08.116860Z",
     "start_time": "2025-10-03T07:48:08.112414Z"
    }
   },
   "cell_type": "code",
   "source": [
    "data1= pd.read_csv('data/sample_trades.csv')\n",
    "print(data1.columns)"
   ],
   "id": "4ab0c17c382659c6",
   "outputs": [
    {
     "name": "stdout",
     "output_type": "stream",
     "text": [
      "Index(['trade_date', 'symbol', 'transaction_type', 'quantity', 'price',\n",
      "       'trade_value', 'charges'],\n",
      "      dtype='object')\n"
     ]
    }
   ],
   "execution_count": 10
  },
  {
   "metadata": {
    "ExecuteTime": {
     "end_time": "2025-10-03T07:49:56.517159Z",
     "start_time": "2025-10-03T07:49:56.513942Z"
    }
   },
   "cell_type": "code",
   "source": [
    "data.columns = ['trade_date','client_id','scrip_name', 'symbol', 'transaction_type', 'quantity', 'price',\n",
    "       'trade_value']"
   ],
   "id": "8bf2c0da2caf2ff3",
   "outputs": [],
   "execution_count": 12
  },
  {
   "metadata": {
    "ExecuteTime": {
     "end_time": "2025-10-03T10:17:55.432809Z",
     "start_time": "2025-10-03T10:17:55.421375Z"
    }
   },
   "cell_type": "code",
   "source": [
    "print(data.head(4))\n",
    "data['charges']=30"
   ],
   "id": "8373942de9e7789b",
   "outputs": [
    {
     "name": "stdout",
     "output_type": "stream",
     "text": [
      "                trade_date client_id                 scrip_name  symbol  \\\n",
      "0  2025-04-01 11:05:03.000     B2002  VODAFONE IDEA LIMITED      532822   \n",
      "1  2025-04-01 10:19:23.000   OM01203  VAKRANGEE LIMITED          511431   \n",
      "2  2025-04-01 10:19:31.000   OM01203  VAKRANGEE LIMITED          511431   \n",
      "3  2025-04-01 10:19:42.000   OM01203                RADHIKAJWE   540125   \n",
      "\n",
      "  transaction_type  quantity  price  trade_value  \n",
      "0             SALE     25000   7.82     195500.0  \n",
      "1              BUY       360   9.88       3556.8  \n",
      "2              BUY      5000   9.88      49400.0  \n",
      "3              BUY       200  82.85      16570.0  \n"
     ]
    }
   ],
   "execution_count": 5
  },
  {
   "metadata": {
    "ExecuteTime": {
     "end_time": "2025-10-03T10:18:03.929184Z",
     "start_time": "2025-10-03T10:17:58.850884Z"
    }
   },
   "cell_type": "code",
   "source": [
    "# 🔹 Step 1: Strip whitespaces from client_id\n",
    "data[\"client_id\"] = data[\"client_id\"].str.strip()\n",
    "data.to_csv('trade1_persona_sample.csv',index=False)"
   ],
   "id": "df7080cc06cfb3a3",
   "outputs": [],
   "execution_count": 6
  },
  {
   "metadata": {
    "ExecuteTime": {
     "end_time": "2025-10-03T10:18:05.649636Z",
     "start_time": "2025-10-03T10:18:05.645192Z"
    }
   },
   "cell_type": "code",
   "source": "print(data.head(4))",
   "id": "4e4e49bffd5cdbce",
   "outputs": [
    {
     "name": "stdout",
     "output_type": "stream",
     "text": [
      "                trade_date client_id                 scrip_name  symbol  \\\n",
      "0  2025-04-01 11:05:03.000     B2002  VODAFONE IDEA LIMITED      532822   \n",
      "1  2025-04-01 10:19:23.000   OM01203  VAKRANGEE LIMITED          511431   \n",
      "2  2025-04-01 10:19:31.000   OM01203  VAKRANGEE LIMITED          511431   \n",
      "3  2025-04-01 10:19:42.000   OM01203                RADHIKAJWE   540125   \n",
      "\n",
      "  transaction_type  quantity  price  trade_value  charges  \n",
      "0             SALE     25000   7.82     195500.0       30  \n",
      "1              BUY       360   9.88       3556.8       30  \n",
      "2              BUY      5000   9.88      49400.0       30  \n",
      "3              BUY       200  82.85      16570.0       30  \n"
     ]
    }
   ],
   "execution_count": 7
  },
  {
   "metadata": {
    "ExecuteTime": {
     "end_time": "2025-10-03T10:25:50.152488Z",
     "start_time": "2025-10-03T10:25:44.836520Z"
    }
   },
   "cell_type": "code",
   "source": [
    "# Create separate CSV for each client\n",
    "# 🔹 Step 1: Strip whitespaces from client_id\n",
    "for client, group in data.groupby(\"client_id\"):\n",
    "    filename = fr\"data/trade_{client}.csv\"\n",
    "    group.to_csv(filename, index=False)\n",
    "    print(f\"Saved {filename}\")"
   ],
   "id": "155f4409b2fdeeef",
   "outputs": [
    {
     "name": "stdout",
     "output_type": "stream",
     "text": [
      "Saved data/trade_AKV2212.csv\n",
      "Saved data/trade_AR1.csv\n",
      "Saved data/trade_B2002.csv\n",
      "Saved data/trade_BP1302.csv\n",
      "Saved data/trade_DR003.csv\n",
      "Saved data/trade_GM1.csv\n",
      "Saved data/trade_IND02700.csv\n",
      "Saved data/trade_IND03453.csv\n",
      "Saved data/trade_IND6508.csv\n",
      "Saved data/trade_J9384.csv\n",
      "Saved data/trade_N2802.csv\n",
      "Saved data/trade_OM01203.csv\n",
      "Saved data/trade_P333.csv\n",
      "Saved data/trade_P78.csv\n",
      "Saved data/trade_PJ8.csv\n",
      "Saved data/trade_PL2046.csv\n",
      "Saved data/trade_Q999.csv\n",
      "Saved data/trade_XS99.csv\n",
      "Saved data/trade_bp1302.csv\n"
     ]
    }
   ],
   "execution_count": 5
  },
  {
   "metadata": {
    "ExecuteTime": {
     "end_time": "2025-10-03T10:18:14.708961Z",
     "start_time": "2025-10-03T10:18:14.651630Z"
    }
   },
   "cell_type": "code",
   "source": "print(data.client_id.unique())",
   "id": "a58a9edc947854f5",
   "outputs": [
    {
     "name": "stdout",
     "output_type": "stream",
     "text": [
      "['B2002' 'OM01203' 'P333' 'IND02700' 'PJ8' 'P78' 'BP1302' 'GM1' 'Q999'\n",
      " 'N2802' 'AKV2212' 'DR003' 'AR1' 'XS99' 'IND03453' 'PL2046' 'J9384'\n",
      " 'IND6508' 'bp1302']\n"
     ]
    }
   ],
   "execution_count": 9
  },
  {
   "metadata": {},
   "cell_type": "code",
   "outputs": [],
   "execution_count": null,
   "source": "",
   "id": "750636dc3e1ed49a"
  }
 ],
 "metadata": {
  "kernelspec": {
   "display_name": "Python 3",
   "language": "python",
   "name": "python3"
  },
  "language_info": {
   "codemirror_mode": {
    "name": "ipython",
    "version": 2
   },
   "file_extension": ".py",
   "mimetype": "text/x-python",
   "name": "python",
   "nbconvert_exporter": "python",
   "pygments_lexer": "ipython2",
   "version": "2.7.6"
  }
 },
 "nbformat": 4,
 "nbformat_minor": 5
}
