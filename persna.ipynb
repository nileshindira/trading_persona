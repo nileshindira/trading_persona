{
 "cells": [
  {
   "cell_type": "code",
   "id": "initial_id",
   "metadata": {
    "collapsed": true,
    "ExecuteTime": {
     "end_time": "2025-10-03T07:44:57.121299Z",
     "start_time": "2025-10-03T07:44:36.383060Z"
    }
   },
   "source": "!pip install pandas\n",
   "outputs": [
    {
     "name": "stdout",
     "output_type": "stream",
     "text": [
      "Collecting pandas\r\n",
      "  Downloading pandas-2.3.3-cp312-cp312-manylinux_2_24_x86_64.manylinux_2_28_x86_64.whl.metadata (91 kB)\r\n",
      "Collecting numpy>=1.26.0 (from pandas)\r\n",
      "  Using cached numpy-2.3.3-cp312-cp312-manylinux_2_27_x86_64.manylinux_2_28_x86_64.whl.metadata (62 kB)\r\n",
      "Requirement already satisfied: python-dateutil>=2.8.2 in /home/system-4/PycharmProjects/trading_persona/.venv/lib/python3.12/site-packages (from pandas) (2.9.0.post0)\r\n",
      "Collecting pytz>=2020.1 (from pandas)\r\n",
      "  Using cached pytz-2025.2-py2.py3-none-any.whl.metadata (22 kB)\r\n",
      "Collecting tzdata>=2022.7 (from pandas)\r\n",
      "  Using cached tzdata-2025.2-py2.py3-none-any.whl.metadata (1.4 kB)\r\n",
      "Requirement already satisfied: six>=1.5 in /home/system-4/PycharmProjects/trading_persona/.venv/lib/python3.12/site-packages (from python-dateutil>=2.8.2->pandas) (1.17.0)\r\n",
      "Downloading pandas-2.3.3-cp312-cp312-manylinux_2_24_x86_64.manylinux_2_28_x86_64.whl (12.4 MB)\r\n",
      "\u001B[2K   \u001B[90m━━━━━━━━━━━━━━━━━━━━━━━━━━━━━━━━━━━━━━━━\u001B[0m \u001B[32m12.4/12.4 MB\u001B[0m \u001B[31m52.0 MB/s\u001B[0m eta \u001B[36m0:00:00\u001B[0m \u001B[36m0:00:01\u001B[0m\r\n",
      "\u001B[?25hUsing cached numpy-2.3.3-cp312-cp312-manylinux_2_27_x86_64.manylinux_2_28_x86_64.whl (16.6 MB)\r\n",
      "Using cached pytz-2025.2-py2.py3-none-any.whl (509 kB)\r\n",
      "Using cached tzdata-2025.2-py2.py3-none-any.whl (347 kB)\r\n",
      "Installing collected packages: pytz, tzdata, numpy, pandas\r\n",
      "Successfully installed numpy-2.3.3 pandas-2.3.3 pytz-2025.2 tzdata-2025.2\r\n",
      "\r\n",
      "\u001B[1m[\u001B[0m\u001B[34;49mnotice\u001B[0m\u001B[1;39;49m]\u001B[0m\u001B[39;49m A new release of pip is available: \u001B[0m\u001B[31;49m24.3.1\u001B[0m\u001B[39;49m -> \u001B[0m\u001B[32;49m25.2\u001B[0m\r\n",
      "\u001B[1m[\u001B[0m\u001B[34;49mnotice\u001B[0m\u001B[1;39;49m]\u001B[0m\u001B[39;49m To update, run: \u001B[0m\u001B[32;49mpip install --upgrade pip\u001B[0m\r\n"
     ]
    }
   ],
   "execution_count": 2
  },
  {
   "metadata": {
    "ExecuteTime": {
     "end_time": "2025-10-04T05:30:27.408697Z",
     "start_time": "2025-10-04T05:30:27.406695Z"
    }
   },
   "cell_type": "code",
   "source": "import pandas as pd",
   "id": "4844d5a47f744bd7",
   "outputs": [],
   "execution_count": 41
  },
  {
   "metadata": {
    "ExecuteTime": {
     "end_time": "2025-10-04T05:35:48.725671Z",
     "start_time": "2025-10-04T05:35:42.213516Z"
    }
   },
   "cell_type": "code",
   "source": [
    "data = pd.read_csv('trade1_persona_sample.csv')\n",
    "import numpy as np\n",
    "data['transaction_type'] = np.where(data['transaction_type']==\"BUY\",\"BUY\",np.where(data['transaction_type']=='SALE','SELL',data['transaction_type']))\n",
    "\n",
    "data.to_csv('trade1_persona_sample.csv',index=False)"
   ],
   "id": "3abc5e5d98a9ee3a",
   "outputs": [],
   "execution_count": 43
  },
  {
   "metadata": {
    "ExecuteTime": {
     "end_time": "2025-10-04T05:35:50.887291Z",
     "start_time": "2025-10-04T05:35:50.884965Z"
    }
   },
   "cell_type": "code",
   "source": "print(data.columns)",
   "id": "157eb3462f76c537",
   "outputs": [
    {
     "name": "stdout",
     "output_type": "stream",
     "text": [
      "Index(['trade_date', 'client_id', 'scrip_name', 'symbol', 'transaction_type',\n",
      "       'quantity', 'price', 'trade_value', 'charges'],\n",
      "      dtype='object')\n"
     ]
    }
   ],
   "execution_count": 44
  },
  {
   "metadata": {
    "ExecuteTime": {
     "end_time": "2025-10-04T05:36:00.069252Z",
     "start_time": "2025-10-04T05:36:00.067004Z"
    }
   },
   "cell_type": "code",
   "source": [
    "data.columns = ['trade_date','client_id','scrip_name', 'symbol', 'transaction_type', 'quantity', 'price',\n",
    "       'trade_value','charges']"
   ],
   "id": "8bf2c0da2caf2ff3",
   "outputs": [],
   "execution_count": 45
  },
  {
   "metadata": {
    "ExecuteTime": {
     "end_time": "2025-10-04T05:36:01.853117Z",
     "start_time": "2025-10-04T05:36:01.845256Z"
    }
   },
   "cell_type": "code",
   "source": [
    "print(data.head(4))\n",
    "data['charges']=30"
   ],
   "id": "8373942de9e7789b",
   "outputs": [
    {
     "name": "stdout",
     "output_type": "stream",
     "text": [
      "                trade_date client_id                 scrip_name      symbol  \\\n",
      "0  2025-04-01 11:05:03.000     B2002  VODAFONE IDEA LIMITED            IDEA   \n",
      "1  2025-04-01 10:19:23.000   OM01203  VAKRANGEE LIMITED           VAKRANGEE   \n",
      "2  2025-04-01 10:19:31.000   OM01203  VAKRANGEE LIMITED           VAKRANGEE   \n",
      "3  2025-04-01 10:19:42.000   OM01203                RADHIKAJWE   RADHIKAJWE   \n",
      "\n",
      "  transaction_type  quantity  price  trade_value  charges  \n",
      "0              BUY     25000   7.82     195500.0       30  \n",
      "1              BUY       360   9.88       3556.8       30  \n",
      "2              BUY      5000   9.88      49400.0       30  \n",
      "3              BUY       200  82.85      16570.0       30  \n"
     ]
    }
   ],
   "execution_count": 46
  },
  {
   "metadata": {
    "ExecuteTime": {
     "end_time": "2025-10-04T05:36:04.319887Z",
     "start_time": "2025-10-04T05:36:04.138571Z"
    }
   },
   "cell_type": "code",
   "source": [
    "# 🔹 Step 1: Strip whitespaces from client_id\n",
    "data[\"client_id\"] = data[\"client_id\"].str.strip()\n",
    "# data.to_csv('trade1_persona_sample.csv',index=False)"
   ],
   "id": "df7080cc06cfb3a3",
   "outputs": [],
   "execution_count": 47
  },
  {
   "metadata": {
    "ExecuteTime": {
     "end_time": "2025-10-04T05:36:11.948615Z",
     "start_time": "2025-10-04T05:36:06.135899Z"
    }
   },
   "cell_type": "code",
   "source": [
    "print(data.head(4))\n",
    "# Load your symbol mapping\n",
    "symbols = pd.read_csv(\"symbols.csv\", dtype=str)  # ensure all read as string\n",
    "\n",
    "# Keep only relevant columns\n",
    "symbols = symbols[[\"bsecode\", \"nsesymbol\"]]\n",
    "data[\"symbol\"] = data[\"symbol\"].astype(str)\n",
    "symbols[\"bsecode\"] = symbols[\"bsecode\"].astype(str)\n",
    "\n",
    "# --- Merge on bsecode <-> symbol ---\n",
    "merged = data.merge(\n",
    "    symbols,\n",
    "    left_on=\"symbol\",\n",
    "    right_on=\"bsecode\",\n",
    "    how=\"left\"\n",
    ")\n",
    "\n",
    "# --- Replace numeric symbol with nsesymbol where match found ---\n",
    "merged[\"symbol\"] = merged[\"nsesymbol\"].combine_first(merged[\"symbol\"])\n",
    "\n",
    "# --- Drop helper columns ---\n",
    "merged.drop(columns=[\"bsecode\", \"nsesymbol\"], inplace=True)\n",
    "\n",
    "# --- Final cleaned DataFrame ---\n",
    "print(merged.head(5))\n",
    "merged.to_csv('trade1_persona_sample_up.csv',index=False)"
   ],
   "id": "4e4e49bffd5cdbce",
   "outputs": [
    {
     "name": "stdout",
     "output_type": "stream",
     "text": [
      "                trade_date client_id                 scrip_name      symbol  \\\n",
      "0  2025-04-01 11:05:03.000     B2002  VODAFONE IDEA LIMITED            IDEA   \n",
      "1  2025-04-01 10:19:23.000   OM01203  VAKRANGEE LIMITED           VAKRANGEE   \n",
      "2  2025-04-01 10:19:31.000   OM01203  VAKRANGEE LIMITED           VAKRANGEE   \n",
      "3  2025-04-01 10:19:42.000   OM01203                RADHIKAJWE   RADHIKAJWE   \n",
      "\n",
      "  transaction_type  quantity  price  trade_value  charges  \n",
      "0              BUY     25000   7.82     195500.0       30  \n",
      "1              BUY       360   9.88       3556.8       30  \n",
      "2              BUY      5000   9.88      49400.0       30  \n",
      "3              BUY       200  82.85      16570.0       30  \n",
      "                trade_date client_id                 scrip_name      symbol  \\\n",
      "0  2025-04-01 11:05:03.000     B2002  VODAFONE IDEA LIMITED            IDEA   \n",
      "1  2025-04-01 10:19:23.000   OM01203  VAKRANGEE LIMITED           VAKRANGEE   \n",
      "2  2025-04-01 10:19:31.000   OM01203  VAKRANGEE LIMITED           VAKRANGEE   \n",
      "3  2025-04-01 10:19:42.000   OM01203                RADHIKAJWE   RADHIKAJWE   \n",
      "4  2025-04-01 10:20:04.000   OM01203  VAKRANGEE LIMITED           VAKRANGEE   \n",
      "\n",
      "  transaction_type  quantity  price  trade_value  charges  \n",
      "0              BUY     25000   7.82     195500.0       30  \n",
      "1              BUY       360   9.88       3556.8       30  \n",
      "2              BUY      5000   9.88      49400.0       30  \n",
      "3              BUY       200  82.85      16570.0       30  \n",
      "4              BUY      5000   9.88      49400.0       30  \n"
     ]
    }
   ],
   "execution_count": 48
  },
  {
   "metadata": {
    "ExecuteTime": {
     "end_time": "2025-10-04T05:36:20.223155Z",
     "start_time": "2025-10-04T05:36:13.683405Z"
    }
   },
   "cell_type": "code",
   "source": [
    "# Create separate CSV for each client\n",
    "data1 = pd.read_csv('trade1_persona_sample_up.csv')\n",
    "# 🔹 Step 1: Strip whitespaces from client_id\n",
    "for client, group in data1.groupby(\"client_id\"):\n",
    "    filename = fr\"data/trade_{client}.csv\"\n",
    "    group.to_csv(filename, index=False)\n",
    "    print(f\"Saved {filename}\")"
   ],
   "id": "155f4409b2fdeeef",
   "outputs": [
    {
     "name": "stdout",
     "output_type": "stream",
     "text": [
      "Saved data/trade_AKV2212.csv\n",
      "Saved data/trade_AR1.csv\n",
      "Saved data/trade_B2002.csv\n",
      "Saved data/trade_BP1302.csv\n",
      "Saved data/trade_DR003.csv\n",
      "Saved data/trade_GM1.csv\n",
      "Saved data/trade_IND02700.csv\n",
      "Saved data/trade_IND03453.csv\n",
      "Saved data/trade_IND6508.csv\n",
      "Saved data/trade_J9384.csv\n",
      "Saved data/trade_N2802.csv\n",
      "Saved data/trade_OM01203.csv\n",
      "Saved data/trade_P333.csv\n",
      "Saved data/trade_P78.csv\n",
      "Saved data/trade_PJ8.csv\n",
      "Saved data/trade_PL2046.csv\n",
      "Saved data/trade_Q999.csv\n",
      "Saved data/trade_XS99.csv\n",
      "Saved data/trade_bp1302.csv\n"
     ]
    }
   ],
   "execution_count": 49
  },
  {
   "metadata": {
    "ExecuteTime": {
     "end_time": "2025-10-04T05:06:43.616857Z",
     "start_time": "2025-10-04T05:06:43.608675Z"
    }
   },
   "cell_type": "code",
   "source": "",
   "id": "a58a9edc947854f5",
   "outputs": [],
   "execution_count": 21
  },
  {
   "metadata": {
    "ExecuteTime": {
     "end_time": "2025-10-04T05:07:51.887940Z",
     "start_time": "2025-10-04T05:07:51.299941Z"
    }
   },
   "cell_type": "code",
   "source": "",
   "id": "750636dc3e1ed49a",
   "outputs": [
    {
     "name": "stdout",
     "output_type": "stream",
     "text": [
      "                trade_date client_id                 scrip_name      symbol  \\\n",
      "0  2025-04-01 11:05:03.000     B2002  VODAFONE IDEA LIMITED            IDEA   \n",
      "1  2025-04-01 10:19:23.000   OM01203  VAKRANGEE LIMITED           VAKRANGEE   \n",
      "2  2025-04-01 10:19:31.000   OM01203  VAKRANGEE LIMITED           VAKRANGEE   \n",
      "3  2025-04-01 10:19:42.000   OM01203                RADHIKAJWE   RADHIKAJWE   \n",
      "4  2025-04-01 10:20:04.000   OM01203  VAKRANGEE LIMITED           VAKRANGEE   \n",
      "\n",
      "  transaction_type  quantity  price  trade_value  charges  \n",
      "0             SELL     25000   7.82     195500.0       30  \n",
      "1              BUY       360   9.88       3556.8       30  \n",
      "2              BUY      5000   9.88      49400.0       30  \n",
      "3              BUY       200  82.85      16570.0       30  \n",
      "4              BUY      5000   9.88      49400.0       30  \n"
     ]
    }
   ],
   "execution_count": 24
  },
  {
   "metadata": {
    "ExecuteTime": {
     "end_time": "2025-10-04T05:08:02.733626Z",
     "start_time": "2025-10-04T05:08:02.731062Z"
    }
   },
   "cell_type": "code",
   "source": "print(len(merged))",
   "id": "cdfa41aa8573e104",
   "outputs": [
    {
     "name": "stdout",
     "output_type": "stream",
     "text": [
      "1723172\n"
     ]
    }
   ],
   "execution_count": 25
  },
  {
   "metadata": {
    "ExecuteTime": {
     "end_time": "2025-10-04T05:08:12.211905Z",
     "start_time": "2025-10-04T05:08:12.209512Z"
    }
   },
   "cell_type": "code",
   "source": "print(len(data))",
   "id": "59cdb2eaedd78bdd",
   "outputs": [
    {
     "name": "stdout",
     "output_type": "stream",
     "text": [
      "1723172\n"
     ]
    }
   ],
   "execution_count": 26
  },
  {
   "metadata": {
    "ExecuteTime": {
     "end_time": "2025-10-04T05:08:30.083226Z",
     "start_time": "2025-10-04T05:08:25.003630Z"
    }
   },
   "cell_type": "code",
   "source": "",
   "id": "ff9f8505edfb83ac",
   "outputs": [],
   "execution_count": 27
  },
  {
   "metadata": {
    "ExecuteTime": {
     "end_time": "2025-10-04T04:52:15.944219Z",
     "start_time": "2025-10-04T04:52:15.939530Z"
    }
   },
   "cell_type": "code",
   "source": "",
   "id": "d0447675cc20c18c",
   "outputs": [
    {
     "name": "stdout",
     "output_type": "stream",
     "text": [
      "       name exchange_x underlying_symbol_x exchange_y underlying_symbol_y  \\\n",
      "0    JPYINR        NSE              JPYINR        BSE              JPYINR   \n",
      "1    JPYINR        NSE              JPYINR        BSE              JPYINR   \n",
      "2    JPYINR        NSE              JPYINR        BSE              JPYINR   \n",
      "3    JPYINR        NSE              JPYINR        BSE              JPYINR   \n",
      "4    JPYINR        NSE              JPYINR        BSE              JPYINR   \n",
      "..      ...        ...                 ...        ...                 ...   \n",
      "145  JPYINR        NSE              JPYINR        BSE              JPYINR   \n",
      "146  JPYINR        NSE              JPYINR        BSE              JPYINR   \n",
      "147  JPYINR        NSE              JPYINR        BSE              JPYINR   \n",
      "148  JPYINR        NSE              JPYINR        BSE              JPYINR   \n",
      "149  JPYINR        NSE              JPYINR        BSE              JPYINR   \n",
      "\n",
      "     exchange_token  \n",
      "0           2169038  \n",
      "1           2169037  \n",
      "2           2160694  \n",
      "3           2169025  \n",
      "4           2169017  \n",
      "..              ...  \n",
      "145         2129420  \n",
      "146         2168983  \n",
      "147         2168982  \n",
      "148         2168972  \n",
      "149         2168969  \n",
      "\n",
      "[150 rows x 6 columns]\n"
     ]
    }
   ],
   "execution_count": 19
  },
  {
   "metadata": {
    "ExecuteTime": {
     "end_time": "2025-10-04T08:21:44.576055Z",
     "start_time": "2025-10-04T08:21:43.963929Z"
    }
   },
   "cell_type": "code",
   "source": [
    "from pathlib import Path\n",
    "from bs4 import BeautifulSoup\n",
    "from reportlab.platypus import SimpleDocTemplate, Paragraph, Spacer\n",
    "from reportlab.lib.styles import getSampleStyleSheet\n",
    "\n",
    "# Path to your HTML file\n",
    "html_path = Path(\"/home/system-4/PycharmProjects/trading_persona/trade_analysis_dhan/data/reports/Trader_report.html\")\n",
    "pdf_path = html_path.with_suffix(\".pdf\")\n",
    "\n",
    "# Read HTML\n",
    "with open(html_path, \"r\", encoding=\"utf-8\") as f:\n",
    "    html_content = f.read()\n",
    "\n",
    "# Parse HTML\n",
    "soup = BeautifulSoup(html_content, \"html.parser\")\n",
    "text_content = soup.get_text()\n",
    "\n",
    "# Build PDF\n",
    "styles = getSampleStyleSheet()\n",
    "doc = SimpleDocTemplate(str(pdf_path))\n",
    "story = []\n",
    "\n",
    "for para in text_content.split(\"\\n\"):\n",
    "    if para.strip():\n",
    "        story.append(Paragraph(para.strip(), styles[\"Normal\"]))\n",
    "        story.append(Spacer(1, 12))\n",
    "\n",
    "doc.build(story)\n",
    "\n",
    "print(f\"✅ PDF saved at: {pdf_path}\")\n"
   ],
   "id": "7b69abb72687e308",
   "outputs": [
    {
     "name": "stdout",
     "output_type": "stream",
     "text": [
      "✅ PDF saved at: /home/system-4/PycharmProjects/trading_persona/trade_analysis_dhan/data/reports/Trader_report.pdf\n"
     ]
    }
   ],
   "execution_count": 51
  },
  {
   "metadata": {
    "ExecuteTime": {
     "end_time": "2025-10-04T08:23:18.108572Z",
     "start_time": "2025-10-04T08:23:17.373723Z"
    }
   },
   "cell_type": "code",
   "source": [
    "import pdfkit\n",
    "\n",
    "input_file = \"/home/system-4/PycharmProjects/trading_persona/trade_analysis_dhan/data/reports/Trader_report.html\"\n",
    "output_file = \"/home/system-4/PycharmProjects/trading_persona/trade_analysis_dhan/data/reports/Trader_report.pdf\"\n",
    "\n",
    "pdfkit.from_file(input_file, output_file)\n",
    "\n",
    "print(f\"✅ PDF saved at {output_file}\")\n"
   ],
   "id": "e15058fdeaa86ad4",
   "outputs": [
    {
     "name": "stdout",
     "output_type": "stream",
     "text": [
      "✅ PDF saved at /home/system-4/PycharmProjects/trading_persona/trade_analysis_dhan/data/reports/Trader_report.pdf\n"
     ]
    }
   ],
   "execution_count": 52
  },
  {
   "metadata": {
    "ExecuteTime": {
     "end_time": "2025-10-06T08:45:16.102370Z",
     "start_time": "2025-10-06T08:45:16.100018Z"
    }
   },
   "cell_type": "code",
   "source": [
    "import os\n",
    "file = os.listdir(\"/home/system-4/PycharmProjects/trading_persona/trade_analysis_dhan/data\")"
   ],
   "id": "4a67f7d0bf881bde",
   "outputs": [],
   "execution_count": 10
  },
  {
   "metadata": {
    "ExecuteTime": {
     "end_time": "2025-10-06T08:45:17.121709Z",
     "start_time": "2025-10-06T08:45:17.114679Z"
    }
   },
   "cell_type": "code",
   "source": "print(file)",
   "id": "22adf7436750e5fa",
   "outputs": [
    {
     "name": "stdout",
     "output_type": "stream",
     "text": [
      "['trade_Q999.csv', 'processed', 'trade_PL2046.csv', 'trade_J9384.csv', 'trade_IND6508.csv', 'trade_AKV2212.csv', 'trade_XS99.csv', 'trade_OM01203.csv', 'reports', 'trade_IND03453.csv', 'ema_cache', 'trade_B2002.csv', 'trade_P333.csv', 'trade_GM1.csv', 'trade_P78.csv', 'trade_N2802.csv', 'trade_AR1.csv', 'trade_BP1302.csv', 'trade_bp1302.csv', 'sample_trades.csv', 'trade_IND02700.csv', 'trade_PJ8.csv', 'trade_DR003.csv', 'raw']\n"
     ]
    }
   ],
   "execution_count": 11
  },
  {
   "metadata": {
    "ExecuteTime": {
     "end_time": "2025-10-06T08:45:34.713063Z",
     "start_time": "2025-10-06T08:45:34.706458Z"
    }
   },
   "cell_type": "code",
   "source": [
    "file = [file for file in file if file.endswith(\".csv\")]\n",
    "print(file)\n",
    "\n",
    "\n",
    "\n",
    "\n",
    "\n",
    "\n",
    "\n"
   ],
   "id": "ac4347c44b412204",
   "outputs": [
    {
     "name": "stdout",
     "output_type": "stream",
     "text": [
      "['trade_Q999.csv', 'trade_PL2046.csv', 'trade_J9384.csv', 'trade_IND6508.csv', 'trade_AKV2212.csv', 'trade_XS99.csv', 'trade_OM01203.csv', 'trade_IND03453.csv', 'trade_B2002.csv', 'trade_P333.csv', 'trade_GM1.csv', 'trade_P78.csv', 'trade_N2802.csv', 'trade_AR1.csv', 'trade_BP1302.csv', 'trade_bp1302.csv', 'sample_trades.csv', 'trade_IND02700.csv', 'trade_PJ8.csv', 'trade_DR003.csv']\n"
     ]
    }
   ],
   "execution_count": 14
  },
  {
   "metadata": {
    "ExecuteTime": {
     "end_time": "2025-10-06T08:46:19.110232Z",
     "start_time": "2025-10-06T08:46:19.103313Z"
    }
   },
   "cell_type": "code",
   "source": "client_name = [ file[6:-4] for file in file ]",
   "id": "8ed39da6053c8aa5",
   "outputs": [],
   "execution_count": 17
  },
  {
   "metadata": {
    "ExecuteTime": {
     "end_time": "2025-10-06T08:46:19.649799Z",
     "start_time": "2025-10-06T08:46:19.645700Z"
    }
   },
   "cell_type": "code",
   "source": "print(client_name)",
   "id": "a02627533fa3f324",
   "outputs": [
    {
     "name": "stdout",
     "output_type": "stream",
     "text": [
      "['Q999', 'PL2046', 'J9384', 'IND6508', 'AKV2212', 'XS99', 'OM01203', 'IND03453', 'B2002', 'P333', 'GM1', 'P78', 'N2802', 'AR1', 'BP1302', 'bp1302', '_trades', 'IND02700', 'PJ8', 'DR003']\n"
     ]
    }
   ],
   "execution_count": 18
  },
  {
   "metadata": {},
   "cell_type": "code",
   "outputs": [],
   "execution_count": null,
   "source": "",
   "id": "79e434e1421143aa"
  }
 ],
 "metadata": {
  "kernelspec": {
   "display_name": "Python 3",
   "language": "python",
   "name": "python3"
  },
  "language_info": {
   "codemirror_mode": {
    "name": "ipython",
    "version": 2
   },
   "file_extension": ".py",
   "mimetype": "text/x-python",
   "name": "python",
   "nbconvert_exporter": "python",
   "pygments_lexer": "ipython2",
   "version": "2.7.6"
  }
 },
 "nbformat": 4,
 "nbformat_minor": 5
}
